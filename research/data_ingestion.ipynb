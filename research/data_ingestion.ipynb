{
 "cells": [
  {
   "cell_type": "code",
   "execution_count": 17,
   "metadata": {},
   "outputs": [],
   "source": [
    "import tensorflow as tf \n",
    "from tensorflow import keras\n",
    "import numpy as np \n",
    "import pandas as pd "
   ]
  },
  {
   "cell_type": "code",
   "execution_count": 18,
   "metadata": {},
   "outputs": [],
   "source": [
    "(x_train, y_train), (x_test, y_test) = keras.datasets.mnist.load_data()"
   ]
  },
  {
   "cell_type": "code",
   "execution_count": 19,
   "metadata": {},
   "outputs": [
    {
     "data": {
      "text/plain": [
       "(60000, 784)"
      ]
     },
     "execution_count": 19,
     "metadata": {},
     "output_type": "execute_result"
    }
   ],
   "source": [
    "x_train_flat= x_train.reshape(x_train.shape[0], -1)\n",
    "x_test_flat= x_test.reshape(x_test.shape[0], -1)\n",
    "x_train_flat.shape"
   ]
  },
  {
   "cell_type": "code",
   "execution_count": 20,
   "metadata": {},
   "outputs": [],
   "source": [
    "train_data = pd.DataFrame(data=x_train_flat, columns=[f'pixel_{i}' for i in range(x_train_flat.shape[1])])\n",
    "train_data['label'] = y_train\n",
    "\n",
    "test_data = pd.DataFrame(data=x_test_flat, columns=[f'pixel_{i}' for i in range(x_test_flat.shape[1])])\n",
    "test_data['label'] = y_test"
   ]
  },
  {
   "cell_type": "code",
   "execution_count": 21,
   "metadata": {},
   "outputs": [
    {
     "data": {
      "text/plain": [
       "'c:\\\\Users\\\\Arvind Vasa\\\\AI-ML\\\\myprojects'"
      ]
     },
     "execution_count": 21,
     "metadata": {},
     "output_type": "execute_result"
    }
   ],
   "source": [
    "%pwd"
   ]
  },
  {
   "cell_type": "code",
   "execution_count": 22,
   "metadata": {},
   "outputs": [],
   "source": [
    "# import os\n",
    "\n",
    "# artifacts_path= os.path.join('artifacts')\n",
    "# os.makedirs(artifacts_path, exist_ok=True)\n",
    "# train_data.to_csv('artifacts/train.csv', index=False)\n",
    "# test_data.to_csv('artifacts/test.csv', index=False)"
   ]
  },
  {
   "cell_type": "code",
   "execution_count": 24,
   "metadata": {},
   "outputs": [
    {
     "data": {
      "text/plain": [
       "'c:\\\\Users\\\\Arvind Vasa\\\\AI-ML\\\\myprojects'"
      ]
     },
     "execution_count": 24,
     "metadata": {},
     "output_type": "execute_result"
    }
   ],
   "source": [
    "%pwd"
   ]
  },
  {
   "cell_type": "code",
   "execution_count": 26,
   "metadata": {},
   "outputs": [
    {
     "data": {
      "text/plain": [
       "'c:\\\\Users\\\\Arvind Vasa\\\\AI-ML\\\\myprojects'"
      ]
     },
     "execution_count": 26,
     "metadata": {},
     "output_type": "execute_result"
    }
   ],
   "source": [
    "os.getcwd()"
   ]
  },
  {
   "cell_type": "code",
   "execution_count": 27,
   "metadata": {},
   "outputs": [],
   "source": [
    "working_dir= 'c:\\\\Users\\\\Arvind Vasa\\\\AI-ML\\\\myprojects\\\\mnist_end_to_end'\n",
    "os.chdir(working_dir)"
   ]
  },
  {
   "cell_type": "code",
   "execution_count": 29,
   "metadata": {},
   "outputs": [
    {
     "data": {
      "text/plain": [
       "'c:\\\\Users\\\\Arvind Vasa\\\\AI-ML\\\\myprojects\\\\mnist_end_to_end'"
      ]
     },
     "execution_count": 29,
     "metadata": {},
     "output_type": "execute_result"
    }
   ],
   "source": [
    "os.getcwd()"
   ]
  },
  {
   "cell_type": "code",
   "execution_count": 30,
   "metadata": {},
   "outputs": [],
   "source": [
    "from dataclasses import dataclass\n",
    "from pathlib import Path\n",
    "import os\n",
    "\n",
    "@dataclass\n",
    "class DataIngestionConfig:\n",
    "    train_data_path:str= os.path.join('artifacts','train_data.csv')\n",
    "    test_data_path:str= os.path.join('artifacts','test_data.csv')\n",
    "\n"
   ]
  },
  {
   "cell_type": "code",
   "execution_count": 46,
   "metadata": {},
   "outputs": [],
   "source": [
    "import numpy as np\n",
    "import pandas as pd\n",
    "\n",
    "class DataIngestion:\n",
    "    def __init__(self):\n",
    "        self.ingestion_config= DataIngestionConfig()\n",
    "\n",
    "    def initiate_data_ingestion(self):\n",
    "        try:\n",
    "            (x_train, y_train), (x_test, y_test) = keras.datasets.mnist.load_data()\n",
    "            x_train_flat= x_train.reshape(x_train.shape[0], -1)\n",
    "            x_test_flat= x_test.reshape(x_test.shape[0], -1)\n",
    "            x_train_flat.shape\n",
    "\n",
    "            train_data = pd.DataFrame(data=x_train_flat, columns=[f'pixel_{i}' for i in range(x_train_flat.shape[1])])\n",
    "            train_data['label'] = y_train\n",
    "\n",
    "            test_data = pd.DataFrame(data=x_test_flat, columns=[f'pixel_{i}' for i in range(x_test_flat.shape[1])])\n",
    "            test_data['label'] = y_test\n",
    "            os.makedirs('artifacts', exist_ok=True)\n",
    "            train_data.to_csv(self.ingestion_config.train_data_path, index=False)\n",
    "            test_data.to_csv(self.ingestion_config.test_data_path, index=False)\n",
    "            \n",
    "        except Exception as e:\n",
    "            raise e\n"
   ]
  },
  {
   "cell_type": "code",
   "execution_count": 45,
   "metadata": {},
   "outputs": [],
   "source": [
    "obj= DataIngestion()\n",
    "obj.initiate_data_ingestion()"
   ]
  },
  {
   "cell_type": "code",
   "execution_count": null,
   "metadata": {},
   "outputs": [],
   "source": []
  }
 ],
 "metadata": {
  "kernelspec": {
   "display_name": "dnnEnv",
   "language": "python",
   "name": "python3"
  },
  "language_info": {
   "codemirror_mode": {
    "name": "ipython",
    "version": 3
   },
   "file_extension": ".py",
   "mimetype": "text/x-python",
   "name": "python",
   "nbconvert_exporter": "python",
   "pygments_lexer": "ipython3",
   "version": "3.8.0"
  }
 },
 "nbformat": 4,
 "nbformat_minor": 2
}
